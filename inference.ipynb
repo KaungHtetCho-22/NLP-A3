{
 "cells": [
  {
   "cell_type": "markdown",
   "metadata": {},
   "source": [
    "### Load models"
   ]
  },
  {
   "cell_type": "code",
   "execution_count": 1,
   "metadata": {},
   "outputs": [
    {
     "name": "stderr",
     "output_type": "stream",
     "text": [
      "/home/koala/.local/lib/python3.11/site-packages/tqdm/auto.py:21: TqdmWarning: IProgress not found. Please update jupyter and ipywidgets. See https://ipywidgets.readthedocs.io/en/stable/user_install.html\n",
      "  from .autonotebook import tqdm as notebook_tqdm\n"
     ]
    }
   ],
   "source": [
    "from app.model import *\n",
    "from app.utils import *"
   ]
  },
  {
   "cell_type": "markdown",
   "metadata": {},
   "source": [
    "- Transformer with general attention"
   ]
  },
  {
   "cell_type": "code",
   "execution_count": 37,
   "metadata": {},
   "outputs": [
    {
     "data": {
      "text/plain": [
       "<All keys matched successfully>"
      ]
     },
     "execution_count": 37,
     "metadata": {},
     "output_type": "execute_result"
    }
   ],
   "source": [
    "generalTransformer = initialize_model('general_attention')\n",
    "generalTransformer.load_state_dict(torch.load('./models/general_attention.pt',map_location=torch.device('cpu')))\n"
   ]
  },
  {
   "cell_type": "markdown",
   "metadata": {},
   "source": [
    "- Transformer with multiplicative attention"
   ]
  },
  {
   "cell_type": "code",
   "execution_count": 38,
   "metadata": {},
   "outputs": [
    {
     "data": {
      "text/plain": [
       "<All keys matched successfully>"
      ]
     },
     "execution_count": 38,
     "metadata": {},
     "output_type": "execute_result"
    }
   ],
   "source": [
    "multiplicativeTransformer = initialize_model('multiplicative_attention')\n",
    "multiplicativeTransformer.load_state_dict(torch.load('./models/multiplicative_attention.pt',map_location=torch.device('cpu')))"
   ]
  },
  {
   "cell_type": "markdown",
   "metadata": {},
   "source": [
    "- Transformer with additive attention"
   ]
  },
  {
   "cell_type": "code",
   "execution_count": 39,
   "metadata": {},
   "outputs": [
    {
     "data": {
      "text/plain": [
       "<All keys matched successfully>"
      ]
     },
     "execution_count": 39,
     "metadata": {},
     "output_type": "execute_result"
    }
   ],
   "source": [
    "additiveTransformer = initialize_model('additive_attention')\n",
    "additiveTransformer.load_state_dict(torch.load('./models/additive_attention.pt',map_location=torch.device('cpu')))"
   ]
  },
  {
   "cell_type": "markdown",
   "metadata": {},
   "source": [
    "### Test with random sentences"
   ]
  },
  {
   "cell_type": "code",
   "execution_count": 40,
   "metadata": {},
   "outputs": [],
   "source": [
    "def translate_sentence(model, sentence, max_len=50):\n",
    "    model.eval()\n",
    "    \n",
    "    # Tokenize the source sentence if it's not already tokenized\n",
    "    if isinstance(sentence, str):\n",
    "        tokens = [token.lower() for token in token_transform[SRC_LANGUAGE](sentence)]\n",
    "    else:\n",
    "        tokens = [token.lower() for token in sentence]\n",
    "    \n",
    "    # Numericalize the tokens using the vocabulary\n",
    "    tokens = [SOS_IDX] + [vocab_transform[SRC_LANGUAGE].get_stoi()[token] \n",
    "                          if token in vocab_transform[SRC_LANGUAGE].get_stoi() else UNK_IDX for token in tokens] + [EOS_IDX]\n",
    "    src_indexes = torch.LongTensor(tokens).to(device)\n",
    "    src_indexes = src_indexes.reshape(1,-1)\n",
    "    \n",
    "    # Create a source mask\n",
    "    src_mask = model.make_src_mask(src_indexes)\n",
    "    \n",
    "    with torch.no_grad():\n",
    "        enc_src = model.encoder(src_indexes, src_mask)\n",
    "    \n",
    "    trg_indexes = [SOS_IDX]\n",
    "    \n",
    "    for i in range(max_len):\n",
    "        trg_tensor = torch.LongTensor(trg_indexes).unsqueeze(0).to(device)\n",
    "        \n",
    "        trg_mask = model.make_trg_mask(trg_tensor)\n",
    "        \n",
    "        with torch.no_grad():\n",
    "            output, attention = model.decoder(trg_tensor, enc_src, trg_mask, src_mask)\n",
    "        \n",
    "        pred_token = output.argmax(2)[:, -1].item()\n",
    "        trg_indexes.append(pred_token)\n",
    "        \n",
    "        if pred_token == EOS_IDX:\n",
    "            break\n",
    "    \n",
    "    trg_tokens = [vocab_transform[TRG_LANGUAGE].get_itos()[i] for i in trg_indexes]\n",
    "    \n",
    "    return trg_tokens, attention  "
   ]
  },
  {
   "cell_type": "code",
   "execution_count": 41,
   "metadata": {},
   "outputs": [
    {
     "name": "stdout",
     "output_type": "stream",
     "text": [
      "trnsformer_with_gnrl_attention:  ['<sos>', 'ဒီ', 'နေ့', 'က', 'အိမ်', 'မှာ', 'ပါ', '။', '<eos>']\n",
      "transformer_with_multi_attention:  ['<sos>', 'ကျွန်တော်', 'ဒီ', 'နေ့', 'တိုင်း', 'စား', 'တယ်', '။', '<eos>']\n",
      "transformer_with_add_attention:  ['<sos>', 'မစ္စ', 'တာ', 'ခိ', 'မု', 'ရ', 'က', 'စ', 'ပြီး', 'သွား', 'တယ်', '။', '<eos>']\n"
     ]
    }
   ],
   "source": [
    "english_sentence_1 = 'who are they'\n",
    "\n",
    "myanmar_sentence_1_gen, general_attention_map = translate_sentence(generalTransformer, english_sentence_1 ,max_len=100)\n",
    "print('trnsformer_with_gnrl_attention: ', myanmar_sentence_1_gen)# Remove <sos> and <eos> tokens before returning\n",
    "myanmar_sentence_1_multi, multiplicative_attention_map = translate_sentence(multiplicativeTransformer, english_sentence_1, max_len=100)\n",
    "print('transformer_with_multi_attention: ', myanmar_sentence_1_multi)\n",
    "myanmar_sentence_1_add, additive_attention_map = translate_sentence(additiveTransformer, english_sentence_1,max_len=100)\n",
    "print('transformer_with_add_attention: ', myanmar_sentence_1_add)"
   ]
  },
  {
   "cell_type": "code",
   "execution_count": 42,
   "metadata": {},
   "outputs": [
    {
     "name": "stdout",
     "output_type": "stream",
     "text": [
      "trnsformer_with_gnrl_attention:  ['<sos>', 'မ', 'နက်ဖန်', 'အတန်း', 'က', 'အတန်း', 'မှာ', 'ရှိ', 'တယ်', '။', '<eos>']\n",
      "transformer_with_multi_attention:  ['<sos>', 'ဒီ', 'နေ့', 'မ', 'ရှိ', 'ဘူး', '။', '<eos>']\n",
      "transformer_with_add_attention:  ['<sos>', 'အဲဒီ', 'မှာ', 'ရှိ', 'မယ်', '။', '<eos>']\n"
     ]
    }
   ],
   "source": [
    "english_sentence_2 = 'there will be no class'\n",
    "\n",
    "myanmar_sentence_2_gen, general_attention_map= translate_sentence(generalTransformer, english_sentence_2, max_len=100)\n",
    "print('trnsformer_with_gnrl_attention: ', myanmar_sentence_2_gen)\n",
    "myanmar_sentence_2_multi, multiplicative_attention_map= translate_sentence(multiplicativeTransformer, english_sentence_2, max_len=100)\n",
    "print('transformer_with_multi_attention: ', myanmar_sentence_2_multi)\n",
    "myanmar_sentence_2_add, additive_attention_map= translate_sentence(additiveTransformer, english_sentence_2, max_len=100)\n",
    "print('transformer_with_add_attention: ', myanmar_sentence_2_add)"
   ]
  },
  {
   "cell_type": "code",
   "execution_count": 43,
   "metadata": {},
   "outputs": [
    {
     "name": "stdout",
     "output_type": "stream",
     "text": [
      "trnsformer_with_gnrl_attention:  ['<sos>', 'အဲဒီ', 'စား', 'လို့', 'စား', 'တယ်', '။', '<eos>']\n",
      "transformer_with_multi_attention:  ['<sos>', 'မ', 'နေ့', 'က', '<unk>', 'သွား', 'တယ်', '။', '<eos>']\n",
      "transformer_with_add_attention:  ['<sos>', '<unk>', 'စား', 'ပြီး', 'စား', 'လို့', '။', '<eos>']\n"
     ]
    }
   ],
   "source": [
    "english_sentence_3 = 'I go outside to eat'\n",
    "\n",
    "myanmar_sentence_3_gen, general_attention_map= translate_sentence(generalTransformer, english_sentence_3, max_len=100)\n",
    "print('trnsformer_with_gnrl_attention: ', myanmar_sentence_3_gen)\n",
    "myanmar_sentence_3_multi, multiplicative_attention_map= translate_sentence(multiplicativeTransformer, english_sentence_3, max_len=100)\n",
    "print('transformer_with_multi_attention: ', myanmar_sentence_3_multi)\n",
    "myanmar_sentence_3_add, additive_attention_map= translate_sentence(additiveTransformer, english_sentence_3, max_len=100)\n",
    "print('transformer_with_add_attention: ', myanmar_sentence_3_add)"
   ]
  },
  {
   "cell_type": "markdown",
   "metadata": {},
   "source": [
    "### Attention map"
   ]
  },
  {
   "cell_type": "code",
   "execution_count": 44,
   "metadata": {},
   "outputs": [],
   "source": [
    "import warnings\n",
    "warnings.filterwarnings('ignore', category=UserWarning)"
   ]
  },
  {
   "cell_type": "code",
   "execution_count": 45,
   "metadata": {},
   "outputs": [],
   "source": [
    "import matplotlib.ticker as ticker\n",
    "import matplotlib.pyplot as plt\n",
    "\n",
    "def display_attention(sentence, translation, attention):\n",
    "    \n",
    "    attention = attention.squeeze(0).mean(0) \n",
    "    # (1, num_heads, trg_len, src_len)\n",
    "\n",
    "    if isinstance(sentence, str):\n",
    "        sentence = sentence.split()  # Tokenize the sentence if it's a single string\n",
    "    \n",
    "    fig = plt.figure(figsize=(10,10))\n",
    "    ax = fig.add_subplot(111)\n",
    "    \n",
    "    attention = attention.squeeze(1).cpu().detach().numpy()\n",
    "    \n",
    "    cax = ax.matshow(attention, cmap='bone')\n",
    "   \n",
    "    ax.tick_params(labelsize=10)\n",
    "    \n",
    "    y_ticks =  [''] + translation\n",
    "    x_ticks =  [''] + sentence \n",
    "     \n",
    "    ax.set_xticklabels(x_ticks, rotation=45)\n",
    "    ax.set_yticklabels(y_ticks, name = 'Noto Sans Myanmar')\n",
    "\n",
    "    ax.xaxis.set_major_locator(ticker.MultipleLocator(1))\n",
    "    ax.yaxis.set_major_locator(ticker.MultipleLocator(1))\n",
    "\n",
    "    # ax.set_title('additive_attention_map')\n",
    "\n",
    "    plt.show()\n",
    "    plt.close()"
   ]
  },
  {
   "cell_type": "code",
   "execution_count": 46,
   "metadata": {},
   "outputs": [
    {
     "data": {
      "image/png": "[encoded data removed]",
      "text/plain": [
       "<Figure size 1000x1000 with 1 Axes>"
      ]
     },
     "metadata": {},
     "output_type": "display_data"
    }
   ],
   "source": [
    "display_attention(english_sentence_3, myanmar_sentence_3_gen, general_attention_map)"
   ]
  },
  {
   "cell_type": "code",
   "execution_count": 47,
   "metadata": {},
   "outputs": [
    {
     "data": {
      "image/png": "[encoded data removed]",
      "text/plain": [
       "<Figure size 1000x1000 with 1 Axes>"
      ]
     },
     "metadata": {},
     "output_type": "display_data"
    }
   ],
   "source": [
    "display_attention(english_sentence_3, myanmar_sentence_3_multi, multiplicative_attention_map)"
   ]
  },
  {
   "cell_type": "code",
   "execution_count": 48,
   "metadata": {},
   "outputs": [
    {
     "data": {
      "image/png": "[encoded data removed]",
      "text/plain": [
       "<Figure size 1000x1000 with 1 Axes>"
      ]
     },
     "metadata": {},
     "output_type": "display_data"
    }
   ],
   "source": [
    "display_attention(english_sentence_3, myanmar_sentence_3_add, additive_attention_map)"
   ]
  },
  {
   "cell_type": "markdown",
   "metadata": {},
   "source": [
    "### BLEU score"
   ]
  },
  {
   "cell_type": "code",
   "execution_count": 51,
   "metadata": {},
   "outputs": [],
   "source": [
    "from torchtext.data.metrics import bleu_score\n",
    "\n",
    "def calculate_bleu(iterator, model, device, max_len = 50):\n",
    "    \n",
    "    trgs = []\n",
    "    pred_trgs = []\n",
    "    \n",
    "    for src, trg in iterator:\n",
    "        \n",
    "        pred_trg, _ = translate_sentence(src, model, device, max_len)\n",
    "                \n",
    "        #cut off <eos> token\n",
    "        pred_trg = pred_trg[:-1]\n",
    "        \n",
    "        #tokenize target sentence so it can be compared with pred_trgs\n",
    "        trg = token_transform[TRG_LANGUAGE](trg.rstrip(\"\\n\"))\n",
    "\n",
    "        pred_trgs.append(pred_trg)\n",
    "        trgs.append([trg])\n",
    "\n",
    "    return bleu_score(pred_trgs, trgs)"
   ]
  },
  {
   "cell_type": "code",
   "execution_count": 52,
   "metadata": {},
   "outputs": [],
   "source": [
    "# test_iter = (en_my_corpus['test']), language_pair=(SRC_LANGUAGE, TRG_LANGUAGE))\n",
    "# bleu_score = calculate_bleu(test_iter, generalTransformer, device)\n",
    "\n",
    "# print(f'BLEU score = {bleu_score*100:.2f}')"
   ]
  }
 ],
 "metadata": {
  "kernelspec": {
   "display_name": "Python 3",
   "language": "python",
   "name": "python3"
  },
  "language_info": {
   "codemirror_mode": {
    "name": "ipython",
    "version": 3
   },
   "file_extension": ".py",
   "mimetype": "text/x-python",
   "name": "python",
   "nbconvert_exporter": "python",
   "pygments_lexer": "ipython3",
   "version": "3.11.6"
  }
 },
 "nbformat": 4,
 "nbformat_minor": 2
}
